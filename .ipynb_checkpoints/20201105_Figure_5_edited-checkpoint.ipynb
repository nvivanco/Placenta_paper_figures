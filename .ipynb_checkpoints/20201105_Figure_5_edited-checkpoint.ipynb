{
 "cells": [
  {
   "cell_type": "code",
   "execution_count": 1,
   "metadata": {},
   "outputs": [],
   "source": [
    "import os\n",
    "import numpy as np\n",
    "import pandas as pd\n",
    "import seaborn as sns"
   ]
  },
  {
   "cell_type": "code",
   "execution_count": 2,
   "metadata": {},
   "outputs": [],
   "source": [
    "plt.rcParams['figure.dpi'] = 180\n",
    "sns.set_context('talk', font_scale= 1.2)"
   ]
  },
  {
   "cell_type": "code",
   "execution_count": 3,
   "metadata": {},
   "outputs": [
    {
     "name": "stderr",
     "output_type": "stream",
     "text": [
      "/Library/Frameworks/Python.framework/Versions/3.7/lib/python3.7/site-packages/IPython/core/interactiveshell.py:3049: DtypeWarning: Columns (42) have mixed types. Specify dtype option on import or set low_memory=False.\n",
      "  interactivity=interactivity, compiler=compiler, result=result)\n"
     ]
    }
   ],
   "source": [
    "subsample_path = '/Users/bendalllab/Desktop/Maternal_cells/500_sub'\n",
    "umap_path = os.path.join(subsample_path, '20200508_maternal500_fetal_wo_outliers.csv')\n",
    "adata_df = pd.read_csv(umap_path)\n",
    "adata_df.loc[:, ['cage', 'id']] = adata_df.loc[:, ['cage', 'id']].astype(str)"
   ]
  },
  {
   "cell_type": "code",
   "execution_count": 4,
   "metadata": {},
   "outputs": [],
   "source": [
    "subsample_path = '/Users/bendalllab/Desktop/Maternal_cells/500_sub'\n",
    "counts_csv = '20201103_Challengemaleandfemcombmaternal500wo_outliers_counts_per_sample_meta_clust.csv'\n",
    "counts_filepath = os.path.join(subsample_path, counts_csv)\n",
    "full_cell_counts= pd.read_csv(counts_filepath)\n",
    "full_cell_counts.loc[:, ['cage', 'id']] = full_cell_counts.loc[:, ['cage', 'id']].astype(str)"
   ]
  },
  {
   "cell_type": "code",
   "execution_count": 5,
   "metadata": {},
   "outputs": [],
   "source": [
    "leiden_color_dictv2 = {'B cells': '#355C7D',\n",
    " 'CD4+ T cells': '#F8B195',\n",
    " 'CD8+ T cells': '#F67280',\n",
    " 'Eosinophils': '#A30059',\n",
    " 'Basophils': '#b4b4ee',\n",
    " 'Monocytes': '#6C5B7B',\n",
    " 'NK cells': '#b4d1ee',\n",
    " 'Neutrophils': '#999097'}"
   ]
  },
  {
   "cell_type": "code",
   "execution_count": 6,
   "metadata": {},
   "outputs": [],
   "source": [
    "challenge_dict = {'sal': '#4295f5', 'polyic': '#f0a10e', 'lps': '#28b818'}"
   ]
  },
  {
   "cell_type": "code",
   "execution_count": 7,
   "metadata": {},
   "outputs": [],
   "source": [
    "subsample_path = '/Users/bendalllab/Desktop/Maternal_cells/500_sub'\n",
    "mumap_path = os.path.join(subsample_path, '20201028_Mo_maternal500wo_outliers.csv')\n",
    "mo_df= pd.read_csv(mumap_path)\n",
    "mo_df.loc[:, ['cage', 'id']] = mo_df.loc[:, ['cage', 'id']].astype(str)"
   ]
  },
  {
   "cell_type": "code",
   "execution_count": 18,
   "metadata": {},
   "outputs": [],
   "source": [
    "mo_columns_int = ['CD45-retroorbital', 'CD45.2', 'CD45.1', 'IdU', 'B220', 'Ly-6G',\n",
    "       'CD11c', 'TCRb', 'CD115', 'CD69', 'F480', 'CD3', 'IgD', 'CD19', 'CD25',\n",
    "       'CD64', 'CD80', 'CD8', 'CD11b', 'CD40', 'IgM', 'c-Kit', 'FOXP3',\n",
    "       'TCRgd', 'CTLA-4', 'Ly-6C', 'CD62L', 'PD-L1', 'FcERI', 'NKp46',\n",
    "       'Siglec-F', 'CD68', 'CD49b', 'CD44', 'CD4', 'PD-1', 'MHCII', 'CD86', \n",
    "               'cage','challenge', 'day', 'id', 'timePI','mo_type', 'compartment2']\n",
    "mo_clean_df = mo_df[(mo_df['test_status'] == 'test') & mo_df['compartment2'].isin(['PB-EV', 'PL-EV', 'PL-T'])]\n",
    "pivot_series = mo_clean_df[mo_columns_int].pivot_table(columns= ['mo_type', 'compartment2','challenge', 'cage','id', 'day', 'timePI'], aggfunc = 'median')\n",
    "mo_median_df = pd.DataFrame(pivot_series)\n",
    "mo_median_df.reset_index(inplace = True)\n",
    "mo_median_df.rename(columns = {'level_0': 'marker', 0: 'median'}, inplace = True)\n",
    "\n",
    "subsample_path = '/Users/bendalllab/Desktop/Maternal_cells/500_sub'\n",
    "mo_median_csv = '20201105_MoChallmaternal500wo_outliers_bl_medians_per_sample.csv'\n",
    "mo_median_filepath = os.path.join(subsample_path, mo_median_csv)\n",
    "mo_median_df.to_csv(mo_median_filepath, index = False)"
   ]
  },
  {
   "cell_type": "code",
   "execution_count": null,
   "metadata": {},
   "outputs": [],
   "source": [
    "subsample_path = '/Users/bendalllab/Desktop/Maternal_cells/500_sub'\n",
    "mo_median_csv = '20201105_MoChallmaternal500wo_outliers_bl_medians_per_sample.csv'\n",
    "mo_median_filepath = os.path.join(subsample_path, mo_median_csv)\n",
    "mo_median_df= pd.read_csv(mo_median_filepath)\n",
    "mo_median_df.loc[:, ['cage', 'id']] = mo_median_df.loc[:, ['cage', 'id']].astype(str)"
   ]
  },
  {
   "cell_type": "code",
   "execution_count": 8,
   "metadata": {},
   "outputs": [],
   "source": [
    "Mo_leiden2_dict = {'F480CD11b': '#d6d60d',\n",
    "                  'presentingPDL1': '#66a61e',\n",
    "                  'IdU': '#772d91',\n",
    "                  'PhagocyticPDL1': '#7570b3',\n",
    "                  'CD11cMHCII':'#d60d0d',\n",
    "                  'MHCIICD11b': '#d6bcc0',\n",
    "                  'Ly6CCD64CD68MHCII': '#876507',\n",
    "                  'hiLy6C':'#d67c0d',\n",
    "                  'PatrollingPDL1':'#e7298a',\n",
    "                  'Ly6CCD11bCD64':'#023fa5'}"
   ]
  },
  {
   "cell_type": "code",
   "execution_count": 9,
   "metadata": {},
   "outputs": [],
   "source": [
    "subsample_path = '/Users/bendalllab/Desktop/Maternal_cells/500_sub'\n",
    "mo_counts_csv = '20201102_maternalMo_challcell_type_counts_per_sample.csv'\n",
    "mo_counts_filepath = os.path.join(subsample_path, mo_counts_csv)\n",
    "mo_cell_counts = pd.read_csv(mo_counts_filepath)\n",
    "mo_cell_counts.loc[:, ['cage', 'id']] = mo_cell_counts.loc[:, ['cage', 'id']].astype(str)"
   ]
  },
  {
   "cell_type": "code",
   "execution_count": 10,
   "metadata": {},
   "outputs": [],
   "source": [
    "samp_total_df = full_cell_counts.loc[:, ['sample', 'sample_total']]\n",
    "samp_total_df.set_index('sample', inplace = True)\n",
    "total_counts_dict = samp_total_df.to_dict()\n",
    "\n",
    "mo_cell_counts.loc[:,'full_sample_total'] = mo_cell_counts.loc[:,'sample'].map(total_counts_dict['sample_total'])\n",
    "mo_cell_counts['frac_of_immune'] = mo_cell_counts['counts']/mo_cell_counts['full_sample_total']                                          \n",
    "mo_clean_counts_full = mo_cell_counts[mo_cell_counts['test_status'] == 'test']"
   ]
  },
  {
   "cell_type": "code",
   "execution_count": 11,
   "metadata": {},
   "outputs": [],
   "source": [
    "subsample_path = '/Users/bendalllab/Desktop/Maternal_cells/500_sub'\n",
    "mo_counts_csv = '20201102_maternalMo_challcell_type_counts_per_sample.csv'\n",
    "mo_counts_filepath = os.path.join(subsample_path, mo_counts_csv)\n",
    "mo_clean_counts_full.to_csv(mo_counts_filepath, index = False)  "
   ]
  },
  {
   "cell_type": "code",
   "execution_count": 12,
   "metadata": {},
   "outputs": [],
   "source": [
    "subsample_path = '/Users/bendalllab/Desktop/Maternal_cells/500_sub'\n",
    "numap_path = os.path.join(subsample_path, '20201028_Neu_maternal500wo_outliers.csv')\n",
    "neu_df= pd.read_csv(numap_path)\n",
    "neu_df.loc[:, ['cage', 'id']] = neu_df.loc[:, ['cage', 'id']].astype(str)"
   ]
  },
  {
   "cell_type": "code",
   "execution_count": 19,
   "metadata": {},
   "outputs": [],
   "source": [
    "neu_columns_int = ['CD45-retroorbital', 'CD45.2', 'CD45.1', 'IdU', 'B220', 'Ly-6G',\n",
    "       'CD11c', 'TCRb', 'CD115', 'CD69', 'F480', 'CD3', 'IgD', 'CD19', 'CD25',\n",
    "       'CD64', 'CD80', 'CD8', 'CD11b', 'CD40', 'IgM', 'c-Kit', 'FOXP3',\n",
    "       'TCRgd', 'CTLA-4', 'Ly-6C', 'CD62L', 'PD-L1', 'FcERI', 'NKp46',\n",
    "       'Siglec-F', 'CD68', 'CD49b', 'CD44', 'CD4', 'PD-1', 'MHCII', 'CD86', \n",
    "               'cage','challenge', 'day', 'id', 'timePI','neu_type', 'compartment2']\n",
    "neu_clean_df = neu_df[(neu_df['test_status'] == 'test') & neu_df['compartment2'].isin(['PB-EV', 'PL-EV', 'PL-T'])]\n",
    "pivot_series = neu_clean_df[neu_columns_int].pivot_table(columns= ['neu_type', 'compartment2','challenge', 'cage','id', 'day', 'timePI'], aggfunc = 'median')\n",
    "neu_median_df = pd.DataFrame(pivot_series)\n",
    "neu_median_df.reset_index(inplace = True)\n",
    "neu_median_df.rename(columns = {'level_0': 'marker', 0: 'median'}, inplace = True)\n",
    "\n",
    "subsample_path = '/Users/bendalllab/Desktop/Maternal_cells/500_sub'\n",
    "neu_median_csv = '20201105_NeuChallmaternal500wo_outliers_bl_medians_per_sample.csv'\n",
    "neu_median_filepath = os.path.join(subsample_path, neu_median_csv)\n",
    "neu_median_df.to_csv(neu_median_filepath, index = False)"
   ]
  },
  {
   "cell_type": "code",
   "execution_count": null,
   "metadata": {},
   "outputs": [],
   "source": [
    "subsample_path = '/Users/bendalllab/Desktop/Maternal_cells/500_sub'\n",
    "neu_median_csv = '20201105_NeuChallmaternal500wo_outliers_bl_medians_per_sample.csv'\n",
    "neu_median_filepath = os.path.join(subsample_path, neu_median_csv)\n",
    "neu_median_df= pd.read_csv(neu_median_filepath)\n",
    "neu_median_df.loc[:, ['cage', 'id']] = neu_median_df.loc[:, ['cage', 'id']].astype(str)"
   ]
  },
  {
   "cell_type": "code",
   "execution_count": 13,
   "metadata": {},
   "outputs": [],
   "source": [
    "Neu_leiden2_dict = {'act_conventional': '#F8B195',\n",
    "'presenting': '#FC9134',\n",
    "'Ly6Glow': '#C06C84',                                       \n",
    "'conventional':'#A8E6CE',\n",
    "'act_presenting':'#6C5B7B',\n",
    "'proliferating': '#FE4365',\n",
    "'CD80pos': '#A8A7A7',\n",
    "'immunosupressive': '#2F9599'}"
   ]
  },
  {
   "cell_type": "code",
   "execution_count": 14,
   "metadata": {},
   "outputs": [],
   "source": [
    "subsample_path = '/Users/bendalllab/Desktop/Maternal_cells/500_sub'\n",
    "neu_counts_csv = '20201029_maternalNeu_allch_counts_per_sample.csv'\n",
    "neu_counts_filepath = os.path.join(subsample_path, neu_counts_csv)\n",
    "neu_cell_counts= pd.read_csv(neu_counts_filepath)  \n",
    "neu_cell_counts.loc[:, ['cage', 'id']] = neu_cell_counts.loc[:, ['cage', 'id']].astype(str)"
   ]
  },
  {
   "cell_type": "code",
   "execution_count": 15,
   "metadata": {},
   "outputs": [],
   "source": [
    "neu_cell_counts.loc[:,'full_sample_total'] = neu_cell_counts.loc[:,'sample'].map(total_counts_dict['sample_total'])\n",
    "neu_cell_counts['frac_of_immune'] = neu_cell_counts['counts']/neu_cell_counts['full_sample_total']                                          \n",
    "neu_cell_counts_full = neu_cell_counts[neu_cell_counts['test_status'] == 'test']"
   ]
  },
  {
   "cell_type": "code",
   "execution_count": 16,
   "metadata": {},
   "outputs": [],
   "source": [
    "subsample_path = '/Users/bendalllab/Desktop/Maternal_cells/500_sub'\n",
    "neu_counts_csv = '20201029_maternalNeu_allch_counts_per_sample.csv'\n",
    "neu_counts_filepath = os.path.join(subsample_path, neu_counts_csv)\n",
    "neu_cell_counts_full.to_csv(neu_counts_filepath, index = False)  "
   ]
  },
  {
   "cell_type": "code",
   "execution_count": null,
   "metadata": {},
   "outputs": [],
   "source": []
  }
 ],
 "metadata": {
  "kernelspec": {
   "display_name": "Python 3",
   "language": "python",
   "name": "python3"
  },
  "language_info": {
   "codemirror_mode": {
    "name": "ipython",
    "version": 3
   },
   "file_extension": ".py",
   "mimetype": "text/x-python",
   "name": "python",
   "nbconvert_exporter": "python",
   "pygments_lexer": "ipython3",
   "version": "3.7.2"
  }
 },
 "nbformat": 4,
 "nbformat_minor": 2
}
